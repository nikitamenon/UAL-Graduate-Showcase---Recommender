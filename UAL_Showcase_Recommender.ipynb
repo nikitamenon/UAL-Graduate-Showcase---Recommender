{
  "nbformat": 4,
  "nbformat_minor": 0,
  "metadata": {
    "colab": {
      "name": "UAL Showcase Recommender.ipynb",
      "provenance": []
    },
    "kernelspec": {
      "name": "python3",
      "display_name": "Python 3"
    },
    "language_info": {
      "name": "python"
    }
  },
  "cells": [
    {
      "cell_type": "code",
      "metadata": {
        "id": "Qf4g-CyWe_Df"
      },
      "source": [
        "import warnings\n",
        "import pandas as pd\n",
        "import numpy as np\n",
        "from gensim.models.doc2vec import Doc2Vec, TaggedDocument\n",
        "from nltk.tokenize import word_tokenize\n",
        "from nltk.corpus import stopwords"
      ],
      "execution_count": 1,
      "outputs": []
    },
    {
      "cell_type": "code",
      "metadata": {
        "id": "1AKwyvWze_Nn"
      },
      "source": [
        "warnings.filterwarnings('ignore')"
      ],
      "execution_count": 2,
      "outputs": []
    },
    {
      "cell_type": "code",
      "metadata": {
        "colab": {
          "base_uri": "https://localhost:8080/",
          "height": 17
        },
        "id": "gLvv9VDWe_Uj",
        "outputId": "1043c538-3426-416d-9833-3d977a0726ac"
      },
      "source": [
        "%%HTML\n",
        "<style type=\"text/css\">\n",
        "table.dataframe td, table.dataframe th {\n",
        "    border: 1px  black solid !important;\n",
        "  color: black !important;\n",
        "}\n",
        "</style>"
      ],
      "execution_count": 3,
      "outputs": [
        {
          "output_type": "display_data",
          "data": {
            "text/html": [
              "<style type=\"text/css\">\n",
              "table.dataframe td, table.dataframe th {\n",
              "    border: 1px  black solid !important;\n",
              "  color: black !important;\n",
              "}\n",
              "</style>"
            ],
            "text/plain": [
              "<IPython.core.display.HTML object>"
            ]
          },
          "metadata": {
            "tags": []
          }
        }
      ]
    },
    {
      "cell_type": "code",
      "metadata": {
        "id": "P8EcO89De_Y8"
      },
      "source": [
        "# Importing Data\n",
        "df = pd.read_json('projects.json')"
      ],
      "execution_count": 4,
      "outputs": []
    },
    {
      "cell_type": "code",
      "metadata": {
        "id": "PHGcPVjLuGaZ"
      },
      "source": [
        "# Changing null tags to empty lists\n",
        "df.loc[df['tags'].isnull(),['tags']] = df.loc[df['tags'].isnull(),'tags'].apply(lambda x: []) "
      ],
      "execution_count": 6,
      "outputs": []
    },
    {
      "cell_type": "code",
      "metadata": {
        "id": "ZG040hoXxtZR"
      },
      "source": [
        "# Changing null themes to empty lists\n",
        "df.loc[df['themes'].isnull(),['themes']] = df.loc[df['themes'].isnull(),'themes'].apply(lambda x: []) "
      ],
      "execution_count": 7,
      "outputs": []
    },
    {
      "cell_type": "code",
      "metadata": {
        "id": "2ue6rMFESIDG"
      },
      "source": [
        "# Merging themes and tags\n",
        "df['themetag'] = df['themes'] + df['tags']\n"
      ],
      "execution_count": 8,
      "outputs": []
    },
    {
      "cell_type": "code",
      "metadata": {
        "id": "tdIZ2Ch9zMaE"
      },
      "source": [
        "# Changing themetag to a string \n",
        "df['themetag'] = df['themetag'].agg(lambda x: ';'.join(map(str, x))) "
      ],
      "execution_count": 10,
      "outputs": []
    },
    {
      "cell_type": "code",
      "metadata": {
        "id": "UJRjusKASWb4"
      },
      "source": [
        "# create binary indicators for each theme/tag\n",
        "# source: https://datascience.stackexchange.com/questions/14847/multiple-categorical-values-for-a-single-feature-how-to-convert-them-to-binary-u\n",
        "df_stack = df[df['themetag'] != '(no themetag listed)'].set_index('portfolioId').themetag.str.split(';', expand = True).stack()\n",
        "df_explode = pd.get_dummies(df_stack, prefix = 'g').groupby(level = 0).sum().reset_index()\n",
        "del df_stack"
      ],
      "execution_count": 11,
      "outputs": []
    },
    {
      "cell_type": "code",
      "metadata": {
        "id": "EqUlnL2cSWX9"
      },
      "source": [
        "# vectors of theme/tags\n",
        "df_explode['themetag_vector'] = df_explode.iloc[:,1:].values.tolist()"
      ],
      "execution_count": 12,
      "outputs": []
    },
    {
      "cell_type": "code",
      "metadata": {
        "id": "nMM1tcGiSWSn"
      },
      "source": [
        "# Adding list of vectors to data \n",
        "df = df.merge(df_explode[['portfolioId','themetag_vector']], on = 'portfolioId', how = 'left')"
      ],
      "execution_count": 14,
      "outputs": []
    },
    {
      "cell_type": "code",
      "metadata": {
        "id": "mRV1uUo0SWPB"
      },
      "source": [
        "# Deleting rows with no themes or tags\n",
        "df = df[df.themetag != \";\"]"
      ],
      "execution_count": 15,
      "outputs": []
    },
    {
      "cell_type": "code",
      "metadata": {
        "id": "JmH8OS0USWME"
      },
      "source": [
        "# Converting theme/tags from string to list\n",
        "df['themetaglist'] = df.themetag.map(lambda x: x.split(';'))"
      ],
      "execution_count": 16,
      "outputs": []
    },
    {
      "cell_type": "code",
      "metadata": {
        "id": "fSOSQ9uwSWGF"
      },
      "source": [
        "# compute Jaccard Index to get 5 most similar projects \n",
        "def get_similar_projects(target_project,df):\n",
        "\n",
        "  target_themetag_list = df[df.portfolioId == target_project].themetaglist.values[0]\n",
        "  themetag_list_sim = df[['portfolioId','showcaseName','themetaglist','themetag']]\n",
        "  themetag_list_sim['jaccard_sim'] = themetag_list_sim.themetaglist.map(lambda x: len(set(x).intersection(set(target_themetag_list))) / len(set(x).union(set(target_themetag_list))))\n",
        "  print(f'Projects most similar to {target_project} based on themetag:')\n",
        "  text = ','.join(themetag_list_sim.sort_values(by = 'jaccard_sim', ascending = False).head(25)['themetag'].values)\n",
        "  recommended=themetag_list_sim.sort_values(by = 'jaccard_sim', ascending = False).head(6)\n",
        "  recommended=recommended[1:]\n",
        "  return recommended['portfolioId']\n",
        "  "
      ],
      "execution_count": 17,
      "outputs": []
    },
    {
      "cell_type": "code",
      "metadata": {
        "id": "Vr9cjrmjCy1Z"
      },
      "source": [
        "# compute Jaccard Index to get least similar project (Inspire Me)\n",
        "def get_diff_projects(target_project,df):\n",
        "\n",
        "  target_themetag_list = df[df.portfolioId == target_project].themetaglist.values[0]\n",
        "  themetag_list_sim = df[['portfolioId','showcaseName','themetaglist','themetag']]\n",
        "  themetag_list_sim['jaccard_sim'] = themetag_list_sim.themetaglist.map(lambda x: len(set(x).intersection(set(target_themetag_list))) / len(set(x).union(set(target_themetag_list))))\n",
        "  print(f'Projects least similar to {target_project} based on themetag:')\n",
        "  text = ','.join(themetag_list_sim.sort_values(by = 'jaccard_sim', ascending = False).head(25)['themetag'].values)\n",
        "  recommended=themetag_list_sim.sort_values(by = 'jaccard_sim', ascending = True).head(1)\n",
        "  return recommended['portfolioId']"
      ],
      "execution_count": 18,
      "outputs": []
    }
  ]
}
